{
 "cells": [
  {
   "cell_type": "code",
   "execution_count": 1,
   "id": "6cfd8492-6e51-44bd-88ca-380205f55086",
   "metadata": {
    "tags": []
   },
   "outputs": [],
   "source": [
    "import pandas as pd\n",
    "import numpy as np\n",
    "import nltk\n",
    "\n",
    "from nltk import word_tokenize"
   ]
  },
  {
   "cell_type": "code",
   "execution_count": 3,
   "id": "c0bd98e5-77a9-4ed9-8749-ced570ffe865",
   "metadata": {
    "tags": []
   },
   "outputs": [
    {
     "name": "stderr",
     "output_type": "stream",
     "text": [
      "[nltk_data] Downloading package punkt to\n",
      "[nltk_data]     C:\\Users\\manug\\AppData\\Roaming\\nltk_data...\n",
      "[nltk_data]   Package punkt is already up-to-date!\n"
     ]
    },
    {
     "data": {
      "text/plain": [
       "True"
      ]
     },
     "execution_count": 3,
     "metadata": {},
     "output_type": "execute_result"
    }
   ],
   "source": [
    "nltk.download('punkt')"
   ]
  },
  {
   "cell_type": "code",
   "execution_count": 5,
   "id": "c21c4a83-c05b-441b-bf62-2670c8fe032e",
   "metadata": {
    "tags": []
   },
   "outputs": [],
   "source": [
    "df = pd.read_csv('bbc_text_cls.csv')"
   ]
  },
  {
   "cell_type": "code",
   "execution_count": 7,
   "id": "2b2f9595-4bea-48ef-86e3-4c02b73c0b47",
   "metadata": {
    "tags": []
   },
   "outputs": [
    {
     "data": {
      "text/html": [
       "<div>\n",
       "<style scoped>\n",
       "    .dataframe tbody tr th:only-of-type {\n",
       "        vertical-align: middle;\n",
       "    }\n",
       "\n",
       "    .dataframe tbody tr th {\n",
       "        vertical-align: top;\n",
       "    }\n",
       "\n",
       "    .dataframe thead th {\n",
       "        text-align: right;\n",
       "    }\n",
       "</style>\n",
       "<table border=\"1\" class=\"dataframe\">\n",
       "  <thead>\n",
       "    <tr style=\"text-align: right;\">\n",
       "      <th></th>\n",
       "      <th>text</th>\n",
       "      <th>labels</th>\n",
       "    </tr>\n",
       "  </thead>\n",
       "  <tbody>\n",
       "    <tr>\n",
       "      <th>0</th>\n",
       "      <td>Ad sales boost Time Warner profit\\n\\nQuarterly...</td>\n",
       "      <td>business</td>\n",
       "    </tr>\n",
       "    <tr>\n",
       "      <th>1</th>\n",
       "      <td>Dollar gains on Greenspan speech\\n\\nThe dollar...</td>\n",
       "      <td>business</td>\n",
       "    </tr>\n",
       "    <tr>\n",
       "      <th>2</th>\n",
       "      <td>Yukos unit buyer faces loan claim\\n\\nThe owner...</td>\n",
       "      <td>business</td>\n",
       "    </tr>\n",
       "    <tr>\n",
       "      <th>3</th>\n",
       "      <td>High fuel prices hit BA's profits\\n\\nBritish A...</td>\n",
       "      <td>business</td>\n",
       "    </tr>\n",
       "    <tr>\n",
       "      <th>4</th>\n",
       "      <td>Pernod takeover talk lifts Domecq\\n\\nShares in...</td>\n",
       "      <td>business</td>\n",
       "    </tr>\n",
       "  </tbody>\n",
       "</table>\n",
       "</div>"
      ],
      "text/plain": [
       "                                                text    labels\n",
       "0  Ad sales boost Time Warner profit\\n\\nQuarterly...  business\n",
       "1  Dollar gains on Greenspan speech\\n\\nThe dollar...  business\n",
       "2  Yukos unit buyer faces loan claim\\n\\nThe owner...  business\n",
       "3  High fuel prices hit BA's profits\\n\\nBritish A...  business\n",
       "4  Pernod takeover talk lifts Domecq\\n\\nShares in...  business"
      ]
     },
     "execution_count": 7,
     "metadata": {},
     "output_type": "execute_result"
    }
   ],
   "source": [
    "df.head()"
   ]
  },
  {
   "cell_type": "code",
   "execution_count": 9,
   "id": "4a3a8c6b-2c68-430b-9f5f-559439914c9b",
   "metadata": {
    "tags": []
   },
   "outputs": [],
   "source": [
    "# populate word2idx\n",
    "# convert documents into sequences of ints / ids / indices\n",
    "idx = 0\n",
    "word2idx = {}\n",
    "tokenized_docs = []\n",
    "for doc in df['text']:\n",
    "  words = word_tokenize(doc.lower())\n",
    "  doc_as_int = []\n",
    "  for word in words:\n",
    "    if word not in word2idx:\n",
    "      word2idx[word] = idx\n",
    "      idx += 1\n",
    "\n",
    "    # save for later\n",
    "    doc_as_int.append(word2idx[word])\n",
    "  tokenized_docs.append(doc_as_int)"
   ]
  },
  {
   "cell_type": "code",
   "execution_count": 10,
   "id": "62f01d11-5a21-4de4-a0b4-6ae2776a9d09",
   "metadata": {
    "tags": []
   },
   "outputs": [],
   "source": [
    "# reverse mapping\n",
    "# if you do it smarter you can store it as a list\n",
    "idx2word = {v:k for k, v in word2idx.items()}"
   ]
  },
  {
   "cell_type": "code",
   "execution_count": 13,
   "id": "6df32610-38d9-470e-a164-6289774b902b",
   "metadata": {
    "tags": []
   },
   "outputs": [],
   "source": [
    "# number of documents\n",
    "N = len(df['text'])"
   ]
  },
  {
   "cell_type": "code",
   "execution_count": 15,
   "id": "1ec47187-4fd5-468a-818b-827d0837a0c2",
   "metadata": {
    "tags": []
   },
   "outputs": [],
   "source": [
    "# number of words\n",
    "V = len(word2idx)"
   ]
  },
  {
   "cell_type": "code",
   "execution_count": 17,
   "id": "e45d5903-624b-4a29-b778-377d1e36897f",
   "metadata": {
    "tags": []
   },
   "outputs": [],
   "source": [
    "# instantiate term-frequency matrix\n",
    "# note: could have also used count vectorizer\n",
    "tf = np.zeros((N, V))"
   ]
  },
  {
   "cell_type": "code",
   "execution_count": 19,
   "id": "37baa7bc-d67e-4a1e-a928-c9f3e744a64d",
   "metadata": {
    "tags": []
   },
   "outputs": [],
   "source": [
    "# populate term-frequency counts\n",
    "for i, doc_as_int in enumerate(tokenized_docs):\n",
    "  for j in doc_as_int:\n",
    "    tf[i, j] += 1"
   ]
  },
  {
   "cell_type": "code",
   "execution_count": 21,
   "id": "8f07f2a0-ed6b-4543-beb1-a469a450e731",
   "metadata": {
    "tags": []
   },
   "outputs": [],
   "source": [
    "# compute IDF\n",
    "document_freq = np.sum(tf > 0, axis=0) # document frequency (shape = (V,))\n",
    "idf = np.log(N / document_freq)"
   ]
  },
  {
   "cell_type": "code",
   "execution_count": 23,
   "id": "c1a16b0c-fe0e-4af1-9ad8-5f54f1f881aa",
   "metadata": {
    "tags": []
   },
   "outputs": [],
   "source": [
    "# compute TF-IDF\n",
    "tf_idf = tf * idf"
   ]
  },
  {
   "cell_type": "code",
   "execution_count": 25,
   "id": "7af7a1e0-7fab-4b7b-b10e-2f8fe122817c",
   "metadata": {
    "tags": []
   },
   "outputs": [],
   "source": [
    "np.random.seed(123)"
   ]
  },
  {
   "cell_type": "code",
   "execution_count": 36,
   "id": "1b927b14-3e31-4dde-8e93-a3c97affed90",
   "metadata": {
    "tags": []
   },
   "outputs": [
    {
     "name": "stdout",
     "output_type": "stream",
     "text": [
      "Label: politics\n",
      "Text: Blair 'said he would stand down'\n",
      "Top 5 terms:\n",
      "book\n",
      "brown\n",
      "blair\n",
      "peston\n",
      "stand\n"
     ]
    }
   ],
   "source": [
    "# pick a random document, show the top 5 terms (in terms of tf_idf score)\n",
    "i = np.random.choice(N)\n",
    "row = df.iloc[i]\n",
    "print(\"Label:\", row['labels'])\n",
    "print(\"Text:\", row['text'].split(\"\\n\", 1)[0])\n",
    "print(\"Top 5 terms:\")\n",
    "\n",
    "scores = tf_idf[i]\n",
    "indices = (-scores).argsort()\n",
    "\n",
    "for j in indices[:5]:\n",
    "  print(idx2word[j])"
   ]
  },
  {
   "cell_type": "code",
   "execution_count": null,
   "id": "f8fb9532-9715-4383-af6b-ea3f685be39f",
   "metadata": {},
   "outputs": [],
   "source": []
  },
  {
   "cell_type": "code",
   "execution_count": null,
   "id": "538691dc-33f9-4043-a03e-9c61df05ffa8",
   "metadata": {},
   "outputs": [],
   "source": []
  }
 ],
 "metadata": {
  "kernelspec": {
   "display_name": "Python 3 (ipykernel)",
   "language": "python",
   "name": "python3"
  },
  "language_info": {
   "codemirror_mode": {
    "name": "ipython",
    "version": 3
   },
   "file_extension": ".py",
   "mimetype": "text/x-python",
   "name": "python",
   "nbconvert_exporter": "python",
   "pygments_lexer": "ipython3",
   "version": "3.11.7"
  }
 },
 "nbformat": 4,
 "nbformat_minor": 5
}
